{
 "cells": [
  {
   "cell_type": "markdown",
   "metadata": {},
   "source": [
    "# Predicting Forest Fires in Algeria"
   ]
  },
  {
   "cell_type": "markdown",
   "metadata": {},
   "source": [
    "## Introduction"
   ]
  },
  {
   "cell_type": "markdown",
   "metadata": {},
   "source": [
    "Climate change has drastically increased the risk and extent of forest fires in several places around the world. Forest fires have numerous devastating effects such as the destruction of wildlife habitat and animal life, toxic gas emission to the atmosphere, infrastructure damage and could potentially cost human lives in the wake of a fire. Recognizing the potentially catastrophic effects of forest fires and to potentially save human lives and the environment, it is vital to have some sort of early warning system that can help governmental agencies in forecasting forest fires.\n",
    "\n",
    "<p float=\"left\">\n",
    "  <img src = \"https://www.lifeinsuranceinternational.com/wp-content/uploads/sites/8/2019/02/shutterstock_710588224.jpg\" width = \"400\"/>\n",
    "  <img src = \"https://encrypted-tbn0.gstatic.com/images?q=tbn:ANd9GcQkiv3dvAtycEW-ZvEomKQXvL38bNuSKx1sOQ&usqp=CAU\" width = \"350\" height = 265/>\n",
    "  <img src = \"https://i.natgeofe.com/n/77462492-ea41-41fe-9c07-296dc330181f/80133.jpg\" width = \"355\"/>\n",
    "</p>\n",
    "\n",
    "With that motivation in mind, this project aims to develope a k-nearest neighbors machine learning model that can predict whether or not a forest fire will occur based on various weather metrics. Our dataset is obtained from <https://archive.ics.uci.edu/ml/datasets/Algerian+Forest+Fires+Dataset++#>. This is a group dataset that contains observations from two different regions of Algeria, namely the Bejaia region in the northeast and Siddi Bel-Abbes region in the northwest.\n",
    "\n",
    "The dataset contains 14 columns:\n",
    "* Day (day)\n",
    "* Month (month): June to September\n",
    "* Year (year): 2012\n",
    "* Temperature: maximum temperature at noon, in degree Celsius (range: 22 -40)\n",
    "* Relative humidity (RH): relative humidity in % (range: 21 - 90)\n",
    "* Windspeed (Ws): in speed in km/h (range: 6 - 29)\n",
    "* Rain amount (Rain): rain amount in a day, in milimeters (mm) (range: 0 - 16.8)\n",
    "* Fine Fuel Moisture Code (FFMC) index from the FWI system (range: 28.6 - 92.5)\n",
    "* Duff Moisture Code (DMC) index from the FWI system (range: 1.1 - 65.9)\n",
    "* Drought Code (DC) index from the FWI system (range: 7 - 220.4)\n",
    "* Initial Spread Index (ISI) index from the FWI system (range: 0 - 18.5)\n",
    "* Buildup Index (BUI) index from the FWI system (range: 1.1 - 68)\n",
    "* Fire Weather Index (FWI) Index (range: 0 - 31.1)\n",
    "* Classes: fire/not fire"
   ]
  },
  {
   "cell_type": "code",
   "execution_count": 3,
   "metadata": {},
   "outputs": [],
   "source": [
    "library(tidyverse)\n",
    "library(repr)\n",
    "library(readxl)\n",
    "library(RColorBrewer)\n",
    "library(forcats)\n",
    "library(tidymodels)\n",
    "options(repr.matrix.max.rows = 6) #limits output of dataframes to 6 rows"
   ]
  },
  {
   "cell_type": "markdown",
   "metadata": {},
   "source": [
    "### Reading & Wrangling our dataset from the web into R"
   ]
  },
  {
   "cell_type": "code",
   "execution_count": 9,
   "metadata": {},
   "outputs": [
    {
     "name": "stderr",
     "output_type": "stream",
     "text": [
      "Parsed with column specification:\n",
      "cols(\n",
      "  day = \u001b[31mcol_character()\u001b[39m,\n",
      "  month = \u001b[31mcol_character()\u001b[39m,\n",
      "  year = \u001b[32mcol_double()\u001b[39m,\n",
      "  Temperature = \u001b[32mcol_double()\u001b[39m,\n",
      "  RH = \u001b[32mcol_double()\u001b[39m,\n",
      "  Ws = \u001b[32mcol_double()\u001b[39m,\n",
      "  Rain = \u001b[32mcol_double()\u001b[39m,\n",
      "  FFMC = \u001b[32mcol_double()\u001b[39m,\n",
      "  DMC = \u001b[32mcol_double()\u001b[39m,\n",
      "  DC = \u001b[32mcol_double()\u001b[39m,\n",
      "  ISI = \u001b[32mcol_double()\u001b[39m,\n",
      "  BUI = \u001b[32mcol_double()\u001b[39m,\n",
      "  FWI = \u001b[32mcol_double()\u001b[39m,\n",
      "  Classes = \u001b[31mcol_character()\u001b[39m\n",
      ")\n",
      "\n",
      "Parsed with column specification:\n",
      "cols(\n",
      "  day = \u001b[31mcol_character()\u001b[39m,\n",
      "  month = \u001b[31mcol_character()\u001b[39m,\n",
      "  year = \u001b[32mcol_double()\u001b[39m,\n",
      "  Temperature = \u001b[32mcol_double()\u001b[39m,\n",
      "  RH = \u001b[32mcol_double()\u001b[39m,\n",
      "  Ws = \u001b[32mcol_double()\u001b[39m,\n",
      "  Rain = \u001b[32mcol_double()\u001b[39m,\n",
      "  FFMC = \u001b[32mcol_double()\u001b[39m,\n",
      "  DMC = \u001b[32mcol_double()\u001b[39m,\n",
      "  DC = \u001b[31mcol_character()\u001b[39m,\n",
      "  ISI = \u001b[32mcol_double()\u001b[39m,\n",
      "  BUI = \u001b[32mcol_double()\u001b[39m,\n",
      "  FWI = \u001b[31mcol_character()\u001b[39m,\n",
      "  Classes = \u001b[31mcol_character()\u001b[39m\n",
      ")\n",
      "\n",
      "Warning message:\n",
      "“1 parsing failure.\n",
      "row col   expected     actual                                                                                                       file\n",
      " 44  -- 14 columns 13 columns 'https://archive.ics.uci.edu/ml/machine-learning-databases/00547/Algerian_forest_fires_dataset_UPDATE.csv'\n",
      "”\n"
     ]
    },
    {
     "data": {
      "text/html": [
       "<table>\n",
       "<caption>A data.frame: 243 × 10</caption>\n",
       "<thead>\n",
       "\t<tr><th scope=col>region</th><th scope=col>day</th><th scope=col>month</th><th scope=col>year</th><th scope=col>Temperature</th><th scope=col>RH</th><th scope=col>Ws</th><th scope=col>Rain</th><th scope=col>FWI</th><th scope=col>Classes</th></tr>\n",
       "\t<tr><th scope=col>&lt;chr&gt;</th><th scope=col>&lt;dbl&gt;</th><th scope=col>&lt;dbl&gt;</th><th scope=col>&lt;dbl&gt;</th><th scope=col>&lt;dbl&gt;</th><th scope=col>&lt;dbl&gt;</th><th scope=col>&lt;dbl&gt;</th><th scope=col>&lt;dbl&gt;</th><th scope=col>&lt;dbl&gt;</th><th scope=col>&lt;fct&gt;</th></tr>\n",
       "</thead>\n",
       "<tbody>\n",
       "\t<tr><td>Bejaia</td><td>1</td><td>6</td><td>2012</td><td>29</td><td>57</td><td>18</td><td> 0.0</td><td>0.5</td><td>not fire</td></tr>\n",
       "\t<tr><td>Bejaia</td><td>2</td><td>6</td><td>2012</td><td>29</td><td>61</td><td>13</td><td> 1.3</td><td>0.4</td><td>not fire</td></tr>\n",
       "\t<tr><td>Bejaia</td><td>3</td><td>6</td><td>2012</td><td>26</td><td>82</td><td>22</td><td>13.1</td><td>0.1</td><td>not fire</td></tr>\n",
       "\t<tr><td>⋮</td><td>⋮</td><td>⋮</td><td>⋮</td><td>⋮</td><td>⋮</td><td>⋮</td><td>⋮</td><td>⋮</td><td>⋮</td></tr>\n",
       "\t<tr><td>Sidi-Bel Abbes</td><td>28</td><td>9</td><td>2012</td><td>27</td><td>87</td><td>29</td><td>0.5</td><td>0.2</td><td>not fire</td></tr>\n",
       "\t<tr><td>Sidi-Bel Abbes</td><td>29</td><td>9</td><td>2012</td><td>24</td><td>54</td><td>18</td><td>0.1</td><td>0.7</td><td>not fire</td></tr>\n",
       "\t<tr><td>Sidi-Bel Abbes</td><td>30</td><td>9</td><td>2012</td><td>24</td><td>64</td><td>15</td><td>0.2</td><td>0.5</td><td>not fire</td></tr>\n",
       "</tbody>\n",
       "</table>\n"
      ],
      "text/latex": [
       "A data.frame: 243 × 10\n",
       "\\begin{tabular}{llllllllll}\n",
       " region & day & month & year & Temperature & RH & Ws & Rain & FWI & Classes\\\\\n",
       " <chr> & <dbl> & <dbl> & <dbl> & <dbl> & <dbl> & <dbl> & <dbl> & <dbl> & <fct>\\\\\n",
       "\\hline\n",
       "\t Bejaia & 1 & 6 & 2012 & 29 & 57 & 18 &  0.0 & 0.5 & not fire\\\\\n",
       "\t Bejaia & 2 & 6 & 2012 & 29 & 61 & 13 &  1.3 & 0.4 & not fire\\\\\n",
       "\t Bejaia & 3 & 6 & 2012 & 26 & 82 & 22 & 13.1 & 0.1 & not fire\\\\\n",
       "\t ⋮ & ⋮ & ⋮ & ⋮ & ⋮ & ⋮ & ⋮ & ⋮ & ⋮ & ⋮\\\\\n",
       "\t Sidi-Bel Abbes & 28 & 9 & 2012 & 27 & 87 & 29 & 0.5 & 0.2 & not fire\\\\\n",
       "\t Sidi-Bel Abbes & 29 & 9 & 2012 & 24 & 54 & 18 & 0.1 & 0.7 & not fire\\\\\n",
       "\t Sidi-Bel Abbes & 30 & 9 & 2012 & 24 & 64 & 15 & 0.2 & 0.5 & not fire\\\\\n",
       "\\end{tabular}\n"
      ],
      "text/markdown": [
       "\n",
       "A data.frame: 243 × 10\n",
       "\n",
       "| region &lt;chr&gt; | day &lt;dbl&gt; | month &lt;dbl&gt; | year &lt;dbl&gt; | Temperature &lt;dbl&gt; | RH &lt;dbl&gt; | Ws &lt;dbl&gt; | Rain &lt;dbl&gt; | FWI &lt;dbl&gt; | Classes &lt;fct&gt; |\n",
       "|---|---|---|---|---|---|---|---|---|---|\n",
       "| Bejaia | 1 | 6 | 2012 | 29 | 57 | 18 |  0.0 | 0.5 | not fire |\n",
       "| Bejaia | 2 | 6 | 2012 | 29 | 61 | 13 |  1.3 | 0.4 | not fire |\n",
       "| Bejaia | 3 | 6 | 2012 | 26 | 82 | 22 | 13.1 | 0.1 | not fire |\n",
       "| ⋮ | ⋮ | ⋮ | ⋮ | ⋮ | ⋮ | ⋮ | ⋮ | ⋮ | ⋮ |\n",
       "| Sidi-Bel Abbes | 28 | 9 | 2012 | 27 | 87 | 29 | 0.5 | 0.2 | not fire |\n",
       "| Sidi-Bel Abbes | 29 | 9 | 2012 | 24 | 54 | 18 | 0.1 | 0.7 | not fire |\n",
       "| Sidi-Bel Abbes | 30 | 9 | 2012 | 24 | 64 | 15 | 0.2 | 0.5 | not fire |\n",
       "\n"
      ],
      "text/plain": [
       "    region         day month year Temperature RH Ws Rain FWI Classes \n",
       "1   Bejaia         1   6     2012 29          57 18  0.0 0.5 not fire\n",
       "2   Bejaia         2   6     2012 29          61 13  1.3 0.4 not fire\n",
       "3   Bejaia         3   6     2012 26          82 22 13.1 0.1 not fire\n",
       "⋮   ⋮              ⋮   ⋮     ⋮    ⋮           ⋮  ⋮  ⋮    ⋮   ⋮       \n",
       "241 Sidi-Bel Abbes 28  9     2012 27          87 29 0.5  0.2 not fire\n",
       "242 Sidi-Bel Abbes 29  9     2012 24          54 18 0.1  0.7 not fire\n",
       "243 Sidi-Bel Abbes 30  9     2012 24          64 15 0.2  0.5 not fire"
      ]
     },
     "metadata": {},
     "output_type": "display_data"
    }
   ],
   "source": [
    "url <- \"https://archive.ics.uci.edu/ml/machine-learning-databases/00547/Algerian_forest_fires_dataset_UPDATE.csv\"\n",
    "\n",
    "Bej_data <- read_csv(url, skip = 1, n_max = 122)\n",
    "\n",
    "SB_data <- read_csv(url, skip = 126) %>% \n",
    "    na.omit() %>% \n",
    "    mutate(DC = as.numeric(DC),\n",
    "           FWI = as.numeric(FWI))\n",
    "\n",
    "forest_fires <- rbind(Bej_data, SB_data) %>% \n",
    "    mutate(day = as.numeric(day),\n",
    "           month = as.numeric(month),\n",
    "           Classes = as_factor(Classes))\n",
    "\n",
    "forest_fires <- cbind(region = (c(rep(\"Bejaia\", 122), rep(\"Sidi-Bel Abbes\", 121))), forest_fires) %>% \n",
    "    select(region:Rain, FWI, Classes)\n",
    "\n",
    "forest_fires"
   ]
  },
  {
   "cell_type": "markdown",
   "metadata": {},
   "source": [
    "* Due to there being 2 datasets in a single .csv file, we read them separately and then merged both of them into a single dataframe called \"forest_fires\".  \n",
    "* Since there was a missing value in one of the rows, the na.omit() function was used to get rid of that row.  \n",
    "* The columns which had numerical values but were of a different type were converted back into numerical variables.\n",
    "* The region column was created to identify which observation belonged to which region.   \n",
    "* The Class column will be are target variable for this analysis therefore it was converted into a factor variable.\n",
    "* Data was wrangled to obtain only the columns/variables we will be using for our analysis."
   ]
  },
  {
   "cell_type": "code",
   "execution_count": 12,
   "metadata": {},
   "outputs": [],
   "source": [
    "set.seed(1234)\n",
    "ff_split <- initial_split(forest_fires, prop = 0.75, strata = Classes)\n",
    "ff_train <- training(ff_split)\n",
    "ff_test <- testing(ff_split)\n"
   ]
  },
  {
   "cell_type": "code",
   "execution_count": null,
   "metadata": {},
   "outputs": [],
   "source": []
  },
  {
   "cell_type": "code",
   "execution_count": null,
   "metadata": {},
   "outputs": [],
   "source": []
  },
  {
   "cell_type": "code",
   "execution_count": null,
   "metadata": {},
   "outputs": [],
   "source": []
  },
  {
   "cell_type": "code",
   "execution_count": null,
   "metadata": {},
   "outputs": [],
   "source": []
  }
 ],
 "metadata": {
  "kernelspec": {
   "display_name": "R",
   "language": "R",
   "name": "ir"
  },
  "language_info": {
   "codemirror_mode": "r",
   "file_extension": ".r",
   "mimetype": "text/x-r-source",
   "name": "R",
   "pygments_lexer": "r",
   "version": "4.0.0"
  }
 },
 "nbformat": 4,
 "nbformat_minor": 4
}
