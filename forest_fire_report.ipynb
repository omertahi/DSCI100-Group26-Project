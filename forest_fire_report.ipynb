{
 "cells": [
  {
   "cell_type": "markdown",
   "metadata": {},
   "source": [
    "# Predicting Forest Fires in Algeria"
   ]
  },
  {
   "cell_type": "markdown",
   "metadata": {},
   "source": [
    "## Introduction"
   ]
  },
  {
   "cell_type": "markdown",
   "metadata": {},
   "source": [
    "Climate change has increased the risk and extent of forest fires in many places around the world. Forest fire bring many devastating effects including the destruction of wildlife habitat and animal life, toxic gas emission to the atmosphere, infrastructure damage and could potentially costing human lives in the wake of a fire. Recognizing the potentially catastrophic effect of forest fires and to potentially save human lives and the environment, it is important to have some sort of early warning system that can help governmental agencies in forecasting forest fires.\r\n",
    "\r\n",
    "<p float=\"left\">\r\n",
    "  <img src = \"https://www.lifeinsuranceinternational.com/wp-content/uploads/sites/8/2019/02/shutterstock_710588224.jpg\" width = \"400\"/>\r\n",
    "  <img src = \"https://encrypted-tbn0.gstatic.com/images?q=tbn:ANd9GcQkiv3dvAtycEW-ZvEomKQXvL38bNuSKx1sOQ&usqp=CAU\" width = \"350\" height = 265/>\r\n",
    "  <img src = \"https://i.natgeofe.com/n/77462492-ea41-41fe-9c07-296dc330181f/80133.jpg\" width = \"355\"/>\r\n",
    "</p>\r\n",
    "\r\n",
    "With that motivation in mind, this project aim to develope a k-nearest neighbors machine learning model that can predict whether or not a forest fire will occur base on different weather metrics. Our dataset is obtained from <https://archive.ics.uci.edu/ml/datasets/Algerian+Forest+Fires+Dataset++#>. This dataset is a group dataset that contains observations from two different regions of Algeria, namely the Bejaia region in the northeast and Siddi Bel-Abbes region in the northwest.\r\n",
    "\r\n",
    "The dataset contains 14 columns:\r\n",
    "* Day (day)\r\n",
    "* Month (month): June to September\r\n",
    "* Year (year): 2012\r\n",
    "* Temperature: maximum temperature at noon, in degree Celsius (range: 22 -40)\r\n",
    "* Relative humidity (RH): relative humidity in % (range: 21 - 90)\r\n",
    "* Windspeed (Ws): in speed in km/h (range: 6 - 29)\r\n",
    "* Rain amount (Rain): rain amount in a day, in milimeters (mm) (range: 0 - 16.8)\r\n",
    "* Fine Fuel Moisture Code (FFMC) index from the FWI system (range: 28.6 - 92.5)\r\n",
    "* Duff Moisture Code (DMC) index from the FWI system (range: 1.1 - 65.9)\r\n",
    "* Drought Code (DC) index from the FWI system (range: 7 - 220.4)\r\n",
    "* Initial Spread Index (ISI) index from the FWI system (range: 0 - 18.5)\r\n",
    "* Buildup Index (BUI) index from the FWI system (range: 1.1 - 68)\r\n",
    "* Fire Weather Index (FWI) Index (range: 0 - 31.1)\r\n",
    "* Classes: fire/not fire"
   ]
  },
  {
   "cell_type": "code",
   "execution_count": 2,
   "metadata": {},
   "outputs": [
    {
     "ename": "ERROR",
     "evalue": "Error in parse(text = x, srcfile = src): <text>:1:19: unexpected input\n1: library(tidyverse)\r\n                      ^\n",
     "output_type": "error",
     "traceback": [
      "Error in parse(text = x, srcfile = src): <text>:1:19: unexpected input\n1: library(tidyverse)\r\n                      ^\nTraceback:\n"
     ]
    }
   ],
   "source": [
    "library(tidyverse)\r\n",
    "library(repr)\r\n",
    "library(readxl)\r\n",
    "library(RColorBrewer)\r\n",
    "library(forcats)\r\n",
    "library(tidymodels)\r\n",
    "options(repr.matrix.max.rows = 6) #limits output of dataframes to 6 rows"
   ]
  },
  {
   "cell_type": "code",
   "execution_count": 4,
   "metadata": {},
   "outputs": [
    {
     "name": "stderr",
     "output_type": "stream",
     "text": [
      "Parsed with column specification:\n",
      "cols(\n",
      "  day = \u001b[32mcol_double()\u001b[39m,\n",
      "  month = \u001b[32mcol_double()\u001b[39m,\n",
      "  year = \u001b[32mcol_double()\u001b[39m,\n",
      "  Temperature = \u001b[32mcol_double()\u001b[39m,\n",
      "  RH = \u001b[32mcol_double()\u001b[39m,\n",
      "  Ws = \u001b[32mcol_double()\u001b[39m,\n",
      "  Rain = \u001b[32mcol_double()\u001b[39m,\n",
      "  FFMC = \u001b[32mcol_double()\u001b[39m,\n",
      "  DMC = \u001b[32mcol_double()\u001b[39m,\n",
      "  DC = \u001b[32mcol_double()\u001b[39m,\n",
      "  ISI = \u001b[32mcol_double()\u001b[39m,\n",
      "  BUI = \u001b[32mcol_double()\u001b[39m,\n",
      "  FWI = \u001b[32mcol_double()\u001b[39m,\n",
      "  Classes = \u001b[31mcol_character()\u001b[39m\n",
      ")\n",
      "\n",
      "Parsed with column specification:\n",
      "cols(\n",
      "  day = \u001b[32mcol_double()\u001b[39m,\n",
      "  month = \u001b[32mcol_double()\u001b[39m,\n",
      "  year = \u001b[32mcol_double()\u001b[39m,\n",
      "  Temperature = \u001b[32mcol_double()\u001b[39m,\n",
      "  RH = \u001b[32mcol_double()\u001b[39m,\n",
      "  Ws = \u001b[32mcol_double()\u001b[39m,\n",
      "  Rain = \u001b[32mcol_double()\u001b[39m,\n",
      "  FFMC = \u001b[32mcol_double()\u001b[39m,\n",
      "  DMC = \u001b[32mcol_double()\u001b[39m,\n",
      "  DC = \u001b[32mcol_double()\u001b[39m,\n",
      "  ISI = \u001b[32mcol_double()\u001b[39m,\n",
      "  BUI = \u001b[32mcol_double()\u001b[39m,\n",
      "  FWI = \u001b[32mcol_double()\u001b[39m,\n",
      "  Classes = \u001b[31mcol_character()\u001b[39m\n",
      ")\n",
      "\n"
     ]
    },
    {
     "ename": "ERROR",
     "evalue": "Error in eval(expr, envir, enclos): object 'forest_fires_fires' not found\n",
     "output_type": "error",
     "traceback": [
      "Error in eval(expr, envir, enclos): object 'forest_fires_fires' not found\nTraceback:\n"
     ]
    }
   ],
   "source": [
    "Bej_data1 <- read_csv(\"data/forest_fires.csv\", skip = 1, n_max = 122)\n",
    "SB_data1 <- read_csv(\"data/forest_fires.csv\", skip = 126)\n",
    "forest_fires1 <- rbind(Bej_data1, SB_data1)\n",
    "forest_fires1 <- cbind(region = rep(c(\"Bejaia\",\"Sidi-Bel Abbes\"), each = 122), forest_fires1) %>% \n",
    "    mutate(Classes = as_factor(Classes))\n",
    "\n",
    "forest_fires1\n",
    "###################\n",
    "\n",
    "url <- \"https://archive.ics.uci.edu/ml/machine-learning-databases/00547/Algerian_forest_fires_dataset_UPDATE.csv\"\n",
    "Bej_data <- read_csv(url, skip = 1, n_max = 122)\n",
    "SB_data <- read_csv(url, skip = 126)\n",
    "forest_fires <- rbind(Bej_data, SB_data)\n",
    "forest_fires <- cbind(region = rep(c(\"Bejaia\",\"Sidi-Bel Abbes\"), each = 122), forest_fires) %>% \n",
    "    mutate(Classes = as_factor(Classes), \n",
    "            month = as.numeric(month),\n",
    "            day = as.numeric(day))\n",
    "\n",
    "####################\n",
    "slice(forest_fires, 164:166)\n",
    "\n",
    "\n",
    "identical(forest_fires1, forest_fires)_fires"
   ]
  },
  {
   "cell_type": "code",
   "execution_count": null,
   "metadata": {},
   "outputs": [],
   "source": []
  },
  {
   "cell_type": "code",
   "execution_count": null,
   "metadata": {},
   "outputs": [],
   "source": []
  },
  {
   "cell_type": "code",
   "execution_count": null,
   "metadata": {},
   "outputs": [],
   "source": []
  },
  {
   "cell_type": "code",
   "execution_count": null,
   "metadata": {},
   "outputs": [],
   "source": []
  },
  {
   "cell_type": "code",
   "execution_count": null,
   "metadata": {},
   "outputs": [],
   "source": []
  },
  {
   "cell_type": "code",
   "execution_count": null,
   "metadata": {},
   "outputs": [],
   "source": []
  },
  {
   "cell_type": "code",
   "execution_count": null,
   "metadata": {},
   "outputs": [],
   "source": []
  }
 ],
 "metadata": {
  "kernelspec": {
   "display_name": "R",
   "language": "R",
   "name": "ir"
  },
  "language_info": {
   "codemirror_mode": "r",
   "file_extension": ".r",
   "mimetype": "text/x-r-source",
   "name": "R",
   "pygments_lexer": "r",
   "version": "4.1.0"
  }
 },
 "nbformat": 4,
 "nbformat_minor": 4
}
