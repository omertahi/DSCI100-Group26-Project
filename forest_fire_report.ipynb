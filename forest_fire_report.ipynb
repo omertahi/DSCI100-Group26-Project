{
 "cells": [
  {
   "cell_type": "markdown",
   "metadata": {},
   "source": [
    "# Forest Fires"
   ]
  },
  {
   "cell_type": "markdown",
   "metadata": {},
   "source": [
    "The topic is predicting forest fires in two different regions of Algeria, namely the Bejaia region in northeast Algeria and the Siddi Bel-Abbes located in the northwest region. Our task would be to predict whether or not there will be a fire and we will base our analysis on different measurements: Temperature, Relative humidity, Wind speed, and Amount of rain. Other Fire Weather Index (FWI) measurements include: FWI"
   ]
  },
  {
   "cell_type": "code",
   "execution_count": 1,
   "metadata": {},
   "outputs": [
    {
     "name": "stderr",
     "output_type": "stream",
     "text": [
      "── \u001b[1mAttaching packages\u001b[22m ─────────────────────────────────────── tidyverse 1.3.0 ──\n",
      "\n",
      "\u001b[32m✔\u001b[39m \u001b[34mggplot2\u001b[39m 3.3.2     \u001b[32m✔\u001b[39m \u001b[34mpurrr  \u001b[39m 0.3.4\n",
      "\u001b[32m✔\u001b[39m \u001b[34mtibble \u001b[39m 3.0.3     \u001b[32m✔\u001b[39m \u001b[34mdplyr  \u001b[39m 1.0.2\n",
      "\u001b[32m✔\u001b[39m \u001b[34mtidyr  \u001b[39m 1.1.2     \u001b[32m✔\u001b[39m \u001b[34mstringr\u001b[39m 1.4.0\n",
      "\u001b[32m✔\u001b[39m \u001b[34mreadr  \u001b[39m 1.3.1     \u001b[32m✔\u001b[39m \u001b[34mforcats\u001b[39m 0.5.0\n",
      "\n",
      "Warning message:\n",
      "“package ‘ggplot2’ was built under R version 4.0.1”\n",
      "Warning message:\n",
      "“package ‘tibble’ was built under R version 4.0.2”\n",
      "Warning message:\n",
      "“package ‘tidyr’ was built under R version 4.0.2”\n",
      "Warning message:\n",
      "“package ‘dplyr’ was built under R version 4.0.2”\n",
      "── \u001b[1mConflicts\u001b[22m ────────────────────────────────────────── tidyverse_conflicts() ──\n",
      "\u001b[31m✖\u001b[39m \u001b[34mdplyr\u001b[39m::\u001b[32mfilter()\u001b[39m masks \u001b[34mstats\u001b[39m::filter()\n",
      "\u001b[31m✖\u001b[39m \u001b[34mdplyr\u001b[39m::\u001b[32mlag()\u001b[39m    masks \u001b[34mstats\u001b[39m::lag()\n",
      "\n",
      "Warning message:\n",
      "“package ‘tidymodels’ was built under R version 4.0.2”\n",
      "── \u001b[1mAttaching packages\u001b[22m ────────────────────────────────────── tidymodels 0.1.1 ──\n",
      "\n",
      "\u001b[32m✔\u001b[39m \u001b[34mbroom    \u001b[39m 0.7.0      \u001b[32m✔\u001b[39m \u001b[34mrecipes  \u001b[39m 0.1.13\n",
      "\u001b[32m✔\u001b[39m \u001b[34mdials    \u001b[39m 0.0.9      \u001b[32m✔\u001b[39m \u001b[34mrsample  \u001b[39m 0.0.7 \n",
      "\u001b[32m✔\u001b[39m \u001b[34minfer    \u001b[39m 0.5.4      \u001b[32m✔\u001b[39m \u001b[34mtune     \u001b[39m 0.1.1 \n",
      "\u001b[32m✔\u001b[39m \u001b[34mmodeldata\u001b[39m 0.0.2      \u001b[32m✔\u001b[39m \u001b[34mworkflows\u001b[39m 0.2.0 \n",
      "\u001b[32m✔\u001b[39m \u001b[34mparsnip  \u001b[39m 0.1.3      \u001b[32m✔\u001b[39m \u001b[34myardstick\u001b[39m 0.0.7 \n",
      "\n",
      "Warning message:\n",
      "“package ‘broom’ was built under R version 4.0.2”\n",
      "Warning message:\n",
      "“package ‘dials’ was built under R version 4.0.2”\n",
      "Warning message:\n",
      "“package ‘infer’ was built under R version 4.0.3”\n",
      "Warning message:\n",
      "“package ‘modeldata’ was built under R version 4.0.1”\n",
      "Warning message:\n",
      "“package ‘parsnip’ was built under R version 4.0.2”\n",
      "Warning message:\n",
      "“package ‘recipes’ was built under R version 4.0.1”\n",
      "Warning message:\n",
      "“package ‘tune’ was built under R version 4.0.2”\n",
      "Warning message:\n",
      "“package ‘workflows’ was built under R version 4.0.2”\n",
      "Warning message:\n",
      "“package ‘yardstick’ was built under R version 4.0.2”\n",
      "── \u001b[1mConflicts\u001b[22m ───────────────────────────────────────── tidymodels_conflicts() ──\n",
      "\u001b[31m✖\u001b[39m \u001b[34mscales\u001b[39m::\u001b[32mdiscard()\u001b[39m masks \u001b[34mpurrr\u001b[39m::discard()\n",
      "\u001b[31m✖\u001b[39m \u001b[34mdplyr\u001b[39m::\u001b[32mfilter()\u001b[39m   masks \u001b[34mstats\u001b[39m::filter()\n",
      "\u001b[31m✖\u001b[39m \u001b[34mrecipes\u001b[39m::\u001b[32mfixed()\u001b[39m  masks \u001b[34mstringr\u001b[39m::fixed()\n",
      "\u001b[31m✖\u001b[39m \u001b[34mdplyr\u001b[39m::\u001b[32mlag()\u001b[39m      masks \u001b[34mstats\u001b[39m::lag()\n",
      "\u001b[31m✖\u001b[39m \u001b[34myardstick\u001b[39m::\u001b[32mspec()\u001b[39m masks \u001b[34mreadr\u001b[39m::spec()\n",
      "\u001b[31m✖\u001b[39m \u001b[34mrecipes\u001b[39m::\u001b[32mstep()\u001b[39m   masks \u001b[34mstats\u001b[39m::step()\n",
      "\n"
     ]
    }
   ],
   "source": [
    "library(tidyverse)\n",
    "library(repr)\n",
    "library(readxl)\n",
    "library(RColorBrewer)\n",
    "library(forcats)\n",
    "library(tidymodels)\n",
    "options(repr.matrix.max.rows = 6) #limits output of dataframes to 6 rows"
   ]
  },
  {
   "cell_type": "code",
   "execution_count": 10,
   "metadata": {},
   "outputs": [
    {
     "name": "stderr",
     "output_type": "stream",
     "text": [
      "Parsed with column specification:\n",
      "cols(\n",
      "  day = \u001b[32mcol_double()\u001b[39m,\n",
      "  month = \u001b[32mcol_double()\u001b[39m,\n",
      "  year = \u001b[32mcol_double()\u001b[39m,\n",
      "  Temperature = \u001b[32mcol_double()\u001b[39m,\n",
      "  RH = \u001b[32mcol_double()\u001b[39m,\n",
      "  Ws = \u001b[32mcol_double()\u001b[39m,\n",
      "  Rain = \u001b[32mcol_double()\u001b[39m,\n",
      "  FFMC = \u001b[32mcol_double()\u001b[39m,\n",
      "  DMC = \u001b[32mcol_double()\u001b[39m,\n",
      "  DC = \u001b[32mcol_double()\u001b[39m,\n",
      "  ISI = \u001b[32mcol_double()\u001b[39m,\n",
      "  BUI = \u001b[32mcol_double()\u001b[39m,\n",
      "  FWI = \u001b[32mcol_double()\u001b[39m,\n",
      "  Classes = \u001b[31mcol_character()\u001b[39m\n",
      ")\n",
      "\n",
      "Parsed with column specification:\n",
      "cols(\n",
      "  day = \u001b[32mcol_double()\u001b[39m,\n",
      "  month = \u001b[32mcol_double()\u001b[39m,\n",
      "  year = \u001b[32mcol_double()\u001b[39m,\n",
      "  Temperature = \u001b[32mcol_double()\u001b[39m,\n",
      "  RH = \u001b[32mcol_double()\u001b[39m,\n",
      "  Ws = \u001b[32mcol_double()\u001b[39m,\n",
      "  Rain = \u001b[32mcol_double()\u001b[39m,\n",
      "  FFMC = \u001b[32mcol_double()\u001b[39m,\n",
      "  DMC = \u001b[32mcol_double()\u001b[39m,\n",
      "  DC = \u001b[32mcol_double()\u001b[39m,\n",
      "  ISI = \u001b[32mcol_double()\u001b[39m,\n",
      "  BUI = \u001b[32mcol_double()\u001b[39m,\n",
      "  FWI = \u001b[32mcol_double()\u001b[39m,\n",
      "  Classes = \u001b[31mcol_character()\u001b[39m\n",
      ")\n",
      "\n"
     ]
    },
    {
     "data": {
      "text/html": [
       "<table>\n",
       "<caption>A spec_tbl_df: 122 × 14</caption>\n",
       "<thead>\n",
       "\t<tr><th scope=col>day</th><th scope=col>month</th><th scope=col>year</th><th scope=col>Temperature</th><th scope=col>RH</th><th scope=col>Ws</th><th scope=col>Rain</th><th scope=col>FFMC</th><th scope=col>DMC</th><th scope=col>DC</th><th scope=col>ISI</th><th scope=col>BUI</th><th scope=col>FWI</th><th scope=col>Classes</th></tr>\n",
       "\t<tr><th scope=col>&lt;dbl&gt;</th><th scope=col>&lt;dbl&gt;</th><th scope=col>&lt;dbl&gt;</th><th scope=col>&lt;dbl&gt;</th><th scope=col>&lt;dbl&gt;</th><th scope=col>&lt;dbl&gt;</th><th scope=col>&lt;dbl&gt;</th><th scope=col>&lt;dbl&gt;</th><th scope=col>&lt;dbl&gt;</th><th scope=col>&lt;dbl&gt;</th><th scope=col>&lt;dbl&gt;</th><th scope=col>&lt;dbl&gt;</th><th scope=col>&lt;dbl&gt;</th><th scope=col>&lt;chr&gt;</th></tr>\n",
       "</thead>\n",
       "<tbody>\n",
       "\t<tr><td>1</td><td>6</td><td>2012</td><td>29</td><td>57</td><td>18</td><td> 0.0</td><td>65.7</td><td>3.4</td><td>7.6</td><td>1.3</td><td>3.4</td><td>0.5</td><td>not fire</td></tr>\n",
       "\t<tr><td>2</td><td>6</td><td>2012</td><td>29</td><td>61</td><td>13</td><td> 1.3</td><td>64.4</td><td>4.1</td><td>7.6</td><td>1.0</td><td>3.9</td><td>0.4</td><td>not fire</td></tr>\n",
       "\t<tr><td>3</td><td>6</td><td>2012</td><td>26</td><td>82</td><td>22</td><td>13.1</td><td>47.1</td><td>2.5</td><td>7.1</td><td>0.3</td><td>2.7</td><td>0.1</td><td>not fire</td></tr>\n",
       "\t<tr><td>⋮</td><td>⋮</td><td>⋮</td><td>⋮</td><td>⋮</td><td>⋮</td><td>⋮</td><td>⋮</td><td>⋮</td><td>⋮</td><td>⋮</td><td>⋮</td><td>⋮</td><td>⋮</td></tr>\n",
       "\t<tr><td>28</td><td>9</td><td>2012</td><td>32</td><td>47</td><td>14</td><td>0.7</td><td>77.5</td><td>7.1</td><td>8.8</td><td>1.8</td><td>6.8</td><td>0.9</td><td>not fire</td></tr>\n",
       "\t<tr><td>29</td><td>9</td><td>2012</td><td>26</td><td>80</td><td>16</td><td>1.8</td><td>47.4</td><td>2.9</td><td>7.7</td><td>0.3</td><td>3.0</td><td>0.1</td><td>not fire</td></tr>\n",
       "\t<tr><td>30</td><td>9</td><td>2012</td><td>25</td><td>78</td><td>14</td><td>1.4</td><td>45.0</td><td>1.9</td><td>7.5</td><td>0.2</td><td>2.4</td><td>0.1</td><td>not fire</td></tr>\n",
       "</tbody>\n",
       "</table>\n"
      ],
      "text/latex": [
       "A spec\\_tbl\\_df: 122 × 14\n",
       "\\begin{tabular}{llllllllllllll}\n",
       " day & month & year & Temperature & RH & Ws & Rain & FFMC & DMC & DC & ISI & BUI & FWI & Classes\\\\\n",
       " <dbl> & <dbl> & <dbl> & <dbl> & <dbl> & <dbl> & <dbl> & <dbl> & <dbl> & <dbl> & <dbl> & <dbl> & <dbl> & <chr>\\\\\n",
       "\\hline\n",
       "\t 1 & 6 & 2012 & 29 & 57 & 18 &  0.0 & 65.7 & 3.4 & 7.6 & 1.3 & 3.4 & 0.5 & not fire\\\\\n",
       "\t 2 & 6 & 2012 & 29 & 61 & 13 &  1.3 & 64.4 & 4.1 & 7.6 & 1.0 & 3.9 & 0.4 & not fire\\\\\n",
       "\t 3 & 6 & 2012 & 26 & 82 & 22 & 13.1 & 47.1 & 2.5 & 7.1 & 0.3 & 2.7 & 0.1 & not fire\\\\\n",
       "\t ⋮ & ⋮ & ⋮ & ⋮ & ⋮ & ⋮ & ⋮ & ⋮ & ⋮ & ⋮ & ⋮ & ⋮ & ⋮ & ⋮\\\\\n",
       "\t 28 & 9 & 2012 & 32 & 47 & 14 & 0.7 & 77.5 & 7.1 & 8.8 & 1.8 & 6.8 & 0.9 & not fire\\\\\n",
       "\t 29 & 9 & 2012 & 26 & 80 & 16 & 1.8 & 47.4 & 2.9 & 7.7 & 0.3 & 3.0 & 0.1 & not fire\\\\\n",
       "\t 30 & 9 & 2012 & 25 & 78 & 14 & 1.4 & 45.0 & 1.9 & 7.5 & 0.2 & 2.4 & 0.1 & not fire\\\\\n",
       "\\end{tabular}\n"
      ],
      "text/markdown": [
       "\n",
       "A spec_tbl_df: 122 × 14\n",
       "\n",
       "| day &lt;dbl&gt; | month &lt;dbl&gt; | year &lt;dbl&gt; | Temperature &lt;dbl&gt; | RH &lt;dbl&gt; | Ws &lt;dbl&gt; | Rain &lt;dbl&gt; | FFMC &lt;dbl&gt; | DMC &lt;dbl&gt; | DC &lt;dbl&gt; | ISI &lt;dbl&gt; | BUI &lt;dbl&gt; | FWI &lt;dbl&gt; | Classes &lt;chr&gt; |\n",
       "|---|---|---|---|---|---|---|---|---|---|---|---|---|---|\n",
       "| 1 | 6 | 2012 | 29 | 57 | 18 |  0.0 | 65.7 | 3.4 | 7.6 | 1.3 | 3.4 | 0.5 | not fire |\n",
       "| 2 | 6 | 2012 | 29 | 61 | 13 |  1.3 | 64.4 | 4.1 | 7.6 | 1.0 | 3.9 | 0.4 | not fire |\n",
       "| 3 | 6 | 2012 | 26 | 82 | 22 | 13.1 | 47.1 | 2.5 | 7.1 | 0.3 | 2.7 | 0.1 | not fire |\n",
       "| ⋮ | ⋮ | ⋮ | ⋮ | ⋮ | ⋮ | ⋮ | ⋮ | ⋮ | ⋮ | ⋮ | ⋮ | ⋮ | ⋮ |\n",
       "| 28 | 9 | 2012 | 32 | 47 | 14 | 0.7 | 77.5 | 7.1 | 8.8 | 1.8 | 6.8 | 0.9 | not fire |\n",
       "| 29 | 9 | 2012 | 26 | 80 | 16 | 1.8 | 47.4 | 2.9 | 7.7 | 0.3 | 3.0 | 0.1 | not fire |\n",
       "| 30 | 9 | 2012 | 25 | 78 | 14 | 1.4 | 45.0 | 1.9 | 7.5 | 0.2 | 2.4 | 0.1 | not fire |\n",
       "\n"
      ],
      "text/plain": [
       "    day month year Temperature RH Ws Rain FFMC DMC DC  ISI BUI FWI Classes \n",
       "1   1   6     2012 29          57 18  0.0 65.7 3.4 7.6 1.3 3.4 0.5 not fire\n",
       "2   2   6     2012 29          61 13  1.3 64.4 4.1 7.6 1.0 3.9 0.4 not fire\n",
       "3   3   6     2012 26          82 22 13.1 47.1 2.5 7.1 0.3 2.7 0.1 not fire\n",
       "⋮   ⋮   ⋮     ⋮    ⋮           ⋮  ⋮  ⋮    ⋮    ⋮   ⋮   ⋮   ⋮   ⋮   ⋮       \n",
       "120 28  9     2012 32          47 14 0.7  77.5 7.1 8.8 1.8 6.8 0.9 not fire\n",
       "121 29  9     2012 26          80 16 1.8  47.4 2.9 7.7 0.3 3.0 0.1 not fire\n",
       "122 30  9     2012 25          78 14 1.4  45.0 1.9 7.5 0.2 2.4 0.1 not fire"
      ]
     },
     "metadata": {},
     "output_type": "display_data"
    },
    {
     "data": {
      "text/html": [
       "<table>\n",
       "<caption>A spec_tbl_df: 122 × 14</caption>\n",
       "<thead>\n",
       "\t<tr><th scope=col>day</th><th scope=col>month</th><th scope=col>year</th><th scope=col>Temperature</th><th scope=col>RH</th><th scope=col>Ws</th><th scope=col>Rain</th><th scope=col>FFMC</th><th scope=col>DMC</th><th scope=col>DC</th><th scope=col>ISI</th><th scope=col>BUI</th><th scope=col>FWI</th><th scope=col>Classes</th></tr>\n",
       "\t<tr><th scope=col>&lt;dbl&gt;</th><th scope=col>&lt;dbl&gt;</th><th scope=col>&lt;dbl&gt;</th><th scope=col>&lt;dbl&gt;</th><th scope=col>&lt;dbl&gt;</th><th scope=col>&lt;dbl&gt;</th><th scope=col>&lt;dbl&gt;</th><th scope=col>&lt;dbl&gt;</th><th scope=col>&lt;dbl&gt;</th><th scope=col>&lt;dbl&gt;</th><th scope=col>&lt;dbl&gt;</th><th scope=col>&lt;dbl&gt;</th><th scope=col>&lt;dbl&gt;</th><th scope=col>&lt;chr&gt;</th></tr>\n",
       "</thead>\n",
       "<tbody>\n",
       "\t<tr><td>1</td><td>6</td><td>2012</td><td>32</td><td>71</td><td>12</td><td>0.7</td><td>57.1</td><td>2.5</td><td>8.2</td><td>0.6</td><td>2.8</td><td>0.2</td><td>not fire</td></tr>\n",
       "\t<tr><td>2</td><td>6</td><td>2012</td><td>30</td><td>73</td><td>13</td><td>4.0</td><td>55.7</td><td>2.7</td><td>7.8</td><td>0.6</td><td>2.9</td><td>0.2</td><td>not fire</td></tr>\n",
       "\t<tr><td>3</td><td>6</td><td>2012</td><td>29</td><td>80</td><td>14</td><td>2.0</td><td>48.7</td><td>2.2</td><td>7.6</td><td>0.3</td><td>2.6</td><td>0.1</td><td>not fire</td></tr>\n",
       "\t<tr><td>⋮</td><td>⋮</td><td>⋮</td><td>⋮</td><td>⋮</td><td>⋮</td><td>⋮</td><td>⋮</td><td>⋮</td><td>⋮</td><td>⋮</td><td>⋮</td><td>⋮</td><td>⋮</td></tr>\n",
       "\t<tr><td>28</td><td>9</td><td>2012</td><td>27</td><td>87</td><td>29</td><td>0.5</td><td>45.9</td><td>3.5</td><td> 7.9</td><td>0.4</td><td>3.4</td><td>0.2</td><td>not fire</td></tr>\n",
       "\t<tr><td>29</td><td>9</td><td>2012</td><td>24</td><td>54</td><td>18</td><td>0.1</td><td>79.7</td><td>4.3</td><td>15.2</td><td>1.7</td><td>5.1</td><td>0.7</td><td>not fire</td></tr>\n",
       "\t<tr><td>30</td><td>9</td><td>2012</td><td>24</td><td>64</td><td>15</td><td>0.2</td><td>67.3</td><td>3.8</td><td>16.5</td><td>1.2</td><td>4.8</td><td>0.5</td><td>not fire</td></tr>\n",
       "</tbody>\n",
       "</table>\n"
      ],
      "text/latex": [
       "A spec\\_tbl\\_df: 122 × 14\n",
       "\\begin{tabular}{llllllllllllll}\n",
       " day & month & year & Temperature & RH & Ws & Rain & FFMC & DMC & DC & ISI & BUI & FWI & Classes\\\\\n",
       " <dbl> & <dbl> & <dbl> & <dbl> & <dbl> & <dbl> & <dbl> & <dbl> & <dbl> & <dbl> & <dbl> & <dbl> & <dbl> & <chr>\\\\\n",
       "\\hline\n",
       "\t 1 & 6 & 2012 & 32 & 71 & 12 & 0.7 & 57.1 & 2.5 & 8.2 & 0.6 & 2.8 & 0.2 & not fire\\\\\n",
       "\t 2 & 6 & 2012 & 30 & 73 & 13 & 4.0 & 55.7 & 2.7 & 7.8 & 0.6 & 2.9 & 0.2 & not fire\\\\\n",
       "\t 3 & 6 & 2012 & 29 & 80 & 14 & 2.0 & 48.7 & 2.2 & 7.6 & 0.3 & 2.6 & 0.1 & not fire\\\\\n",
       "\t ⋮ & ⋮ & ⋮ & ⋮ & ⋮ & ⋮ & ⋮ & ⋮ & ⋮ & ⋮ & ⋮ & ⋮ & ⋮ & ⋮\\\\\n",
       "\t 28 & 9 & 2012 & 27 & 87 & 29 & 0.5 & 45.9 & 3.5 &  7.9 & 0.4 & 3.4 & 0.2 & not fire\\\\\n",
       "\t 29 & 9 & 2012 & 24 & 54 & 18 & 0.1 & 79.7 & 4.3 & 15.2 & 1.7 & 5.1 & 0.7 & not fire\\\\\n",
       "\t 30 & 9 & 2012 & 24 & 64 & 15 & 0.2 & 67.3 & 3.8 & 16.5 & 1.2 & 4.8 & 0.5 & not fire\\\\\n",
       "\\end{tabular}\n"
      ],
      "text/markdown": [
       "\n",
       "A spec_tbl_df: 122 × 14\n",
       "\n",
       "| day &lt;dbl&gt; | month &lt;dbl&gt; | year &lt;dbl&gt; | Temperature &lt;dbl&gt; | RH &lt;dbl&gt; | Ws &lt;dbl&gt; | Rain &lt;dbl&gt; | FFMC &lt;dbl&gt; | DMC &lt;dbl&gt; | DC &lt;dbl&gt; | ISI &lt;dbl&gt; | BUI &lt;dbl&gt; | FWI &lt;dbl&gt; | Classes &lt;chr&gt; |\n",
       "|---|---|---|---|---|---|---|---|---|---|---|---|---|---|\n",
       "| 1 | 6 | 2012 | 32 | 71 | 12 | 0.7 | 57.1 | 2.5 | 8.2 | 0.6 | 2.8 | 0.2 | not fire |\n",
       "| 2 | 6 | 2012 | 30 | 73 | 13 | 4.0 | 55.7 | 2.7 | 7.8 | 0.6 | 2.9 | 0.2 | not fire |\n",
       "| 3 | 6 | 2012 | 29 | 80 | 14 | 2.0 | 48.7 | 2.2 | 7.6 | 0.3 | 2.6 | 0.1 | not fire |\n",
       "| ⋮ | ⋮ | ⋮ | ⋮ | ⋮ | ⋮ | ⋮ | ⋮ | ⋮ | ⋮ | ⋮ | ⋮ | ⋮ | ⋮ |\n",
       "| 28 | 9 | 2012 | 27 | 87 | 29 | 0.5 | 45.9 | 3.5 |  7.9 | 0.4 | 3.4 | 0.2 | not fire |\n",
       "| 29 | 9 | 2012 | 24 | 54 | 18 | 0.1 | 79.7 | 4.3 | 15.2 | 1.7 | 5.1 | 0.7 | not fire |\n",
       "| 30 | 9 | 2012 | 24 | 64 | 15 | 0.2 | 67.3 | 3.8 | 16.5 | 1.2 | 4.8 | 0.5 | not fire |\n",
       "\n"
      ],
      "text/plain": [
       "    day month year Temperature RH Ws Rain FFMC DMC DC   ISI BUI FWI Classes \n",
       "1   1   6     2012 32          71 12 0.7  57.1 2.5 8.2  0.6 2.8 0.2 not fire\n",
       "2   2   6     2012 30          73 13 4.0  55.7 2.7 7.8  0.6 2.9 0.2 not fire\n",
       "3   3   6     2012 29          80 14 2.0  48.7 2.2 7.6  0.3 2.6 0.1 not fire\n",
       "⋮   ⋮   ⋮     ⋮    ⋮           ⋮  ⋮  ⋮    ⋮    ⋮   ⋮    ⋮   ⋮   ⋮   ⋮       \n",
       "120 28  9     2012 27          87 29 0.5  45.9 3.5  7.9 0.4 3.4 0.2 not fire\n",
       "121 29  9     2012 24          54 18 0.1  79.7 4.3 15.2 1.7 5.1 0.7 not fire\n",
       "122 30  9     2012 24          64 15 0.2  67.3 3.8 16.5 1.2 4.8 0.5 not fire"
      ]
     },
     "metadata": {},
     "output_type": "display_data"
    }
   ],
   "source": [
    "Bej_data <- read_csv(\"data/forest_fires.csv\", skip = 1, n_max = 122)\n",
    "SB_data <- read_csv(\"data/forest_fires.csv\", skip = 126)\n",
    "\n",
    "Bej_data\n",
    "SB_data"
   ]
  },
  {
   "cell_type": "code",
   "execution_count": null,
   "metadata": {},
   "outputs": [],
   "source": []
  }
 ],
 "metadata": {
  "kernelspec": {
   "display_name": "R",
   "language": "R",
   "name": "ir"
  },
  "language_info": {
   "codemirror_mode": "r",
   "file_extension": ".r",
   "mimetype": "text/x-r-source",
   "name": "R",
   "pygments_lexer": "r",
   "version": "4.0.0"
  }
 },
 "nbformat": 4,
 "nbformat_minor": 4
}
